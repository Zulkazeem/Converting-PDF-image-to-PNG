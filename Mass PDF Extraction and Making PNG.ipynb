{
 "cells": [
  {
   "cell_type": "code",
   "execution_count": 3,
   "id": "3bcfd254",
   "metadata": {},
   "outputs": [
    {
     "name": "stdout",
     "output_type": "stream",
     "text": [
      "Requirement already satisfied: PyMuPDF in c:\\users\\yomid\\anaconda3\\lib\\site-packages (1.24.1)\n",
      "Requirement already satisfied: PyMuPDFb==1.24.1 in c:\\users\\yomid\\anaconda3\\lib\\site-packages (from PyMuPDF) (1.24.1)\n"
     ]
    }
   ],
   "source": [
    "#install pymupdf or other necessary libraries\n",
    "\n",
    "!pip install PyMuPDF"
   ]
  },
  {
   "cell_type": "code",
   "execution_count": 4,
   "id": "2888561c",
   "metadata": {},
   "outputs": [],
   "source": [
    "#Import libraries\n",
    "import os\n",
    "import io\n",
    "from PIL import Image\n",
    "import fitz\n",
    "import shutil"
   ]
  },
  {
   "cell_type": "markdown",
   "id": "cc7223d9",
   "metadata": {},
   "source": [
    "# Single pdf image conversion to png"
   ]
  },
  {
   "cell_type": "code",
   "execution_count": 34,
   "id": "d4e08bac-5401-463c-b635-5867e4868417",
   "metadata": {},
   "outputs": [],
   "source": [
    "def convert_pdf_to_images(pdf_path, output_folder, output_format=\"png\"):\n",
    "    # Create the output folder if it doesn't exist\n",
    "    if not os.path.exists(output_folder):\n",
    "        os.makedirs(output_folder)\n",
    "    \n",
    "    # Open the PDF file\n",
    "    pdf_document = fitz.open(pdf_path)\n",
    "    \n",
    "    # Initialize image counter\n",
    "    image_count = 0\n",
    "    \n",
    "    # Loop through each page\n",
    "    for page_number in range(pdf_document.page_count):\n",
    "        # Get the page\n",
    "        page = pdf_document.load_page(page_number)\n",
    "        \n",
    "        # Get the images from the page\n",
    "        img_list = page.get_images(full=True)\n",
    "        \n",
    "        # Iterate through each image on the page\n",
    "        for img_index, img in enumerate(img_list):\n",
    "            # Get the byte of the image\n",
    "            img_byte = pdf_document.extract_image(img[0])[\"image\"]\n",
    "            \n",
    "            # Convert the bytes to PIL image\n",
    "            pil_img = Image.open(io.BytesIO(img_byte))\n",
    "            \n",
    "            # Save image \n",
    "            output_file = f\"{os.path.splitext(os.path.basename(pdf_path))[0]}_page_{page_number + 1}_img_{img_index + 1}.{output_format}\"\n",
    "            output_path = os.path.join(output_folder, output_file)\n",
    "            \n",
    "            # Check if the image file already exists in the output folder\n",
    "            if os.path.exists(output_path):\n",
    "                print(f\"Image {output_file} already exists. Skipping...\")\n",
    "                continue\n",
    "            \n",
    "            # Save the image if it doesn't exist\n",
    "            pil_img.save(output_path)\n",
    "            \n",
    "            # Increment image counter\n",
    "            image_count += 1\n",
    "    \n",
    "    # Close the PDF document\n",
    "    pdf_document.close()\n",
    "    \n",
    "    print(f\"Total {image_count} images were extracted from {pdf_path}\")"
   ]
  },
  {
   "cell_type": "code",
   "execution_count": null,
   "id": "558a4a80",
   "metadata": {},
   "outputs": [],
   "source": [
    "# Example usage\n",
    "pdf_path = r'C:\\path\\to\\your\\file.pdf'\n",
    "output_folder = r'C:\\path\\to\\output\\folder'\n",
    "convert_pdf_to_images(pdf_path, output_folder, output_format=\"png\")"
   ]
  },
  {
   "cell_type": "markdown",
   "id": "63874d85",
   "metadata": {},
   "source": [
    "# Single folder Conversion"
   ]
  },
  {
   "cell_type": "code",
   "execution_count": 35,
   "id": "0711dd82-046f-4ef5-9bb5-ed5fbc3c5f72",
   "metadata": {},
   "outputs": [],
   "source": [
    "def convert_pdfs_to_images(input_folder, output_folder, output_format=\"png\"):\n",
    "    if not os.path.exists(output_folder):\n",
    "        os.makedirs(output_folder)\n",
    "\n",
    "    for pdf_file in os.listdir(input_folder):\n",
    "        if not pdf_file.endswith(\".pdf\"):\n",
    "            continue\n",
    "\n",
    "        pdf_path = os.path.join(input_folder, pdf_file)\n",
    "        document = fitz.open(pdf_path)\n",
    "\n",
    "        for page_num in range(len(document)):\n",
    "            page = document.load_page(page_num)\n",
    "            pix = page.get_pixmap()\n",
    "\n",
    "            pil_img = Image.frombytes(\"RGB\", [pix.width, pix.height], pix.samples)\n",
    "            \n",
    "            # Construct the output path\n",
    "            output_path = os.path.join(output_folder, f\"{os.path.splitext(pdf_file)[0]}_page_{page_num + 1}_img_1.{output_format}\")\n",
    "            \n",
    "            # Create the directory if it doesn't exist\n",
    "            output_dir = os.path.dirname(output_path)\n",
    "            if not os.path.exists(output_dir):\n",
    "                os.makedirs(output_dir)\n",
    "            \n",
    "            # Save the image if it doesn't exist\n",
    "            pil_img.save(output_path)"
   ]
  },
  {
   "cell_type": "code",
   "execution_count": null,
   "id": "bc154857",
   "metadata": {},
   "outputs": [],
   "source": [
    "# Example usage\n",
    "input_folder = \"where_the_pdf_image_lies\"\n",
    "output_folder = \"desired_output_folder\"\n",
    "convert_pdfs_to_images(input_folder, output_folder, output_format=\"png\")"
   ]
  },
  {
   "cell_type": "markdown",
   "id": "6ceaaed7",
   "metadata": {},
   "source": [
    "# Mass conversion from subfolders containing the pdf images"
   ]
  },
  {
   "cell_type": "code",
   "execution_count": null,
   "id": "74f47168",
   "metadata": {},
   "outputs": [],
   "source": [
    "#Creating subfolders of same name with the input folder containing the pdf images somwhere else to save the png images\n",
    "def create_subfolders(source_folder, destination_folder):\n",
    "    # Get the list of subfolder names from the source folder\n",
    "    subfolders = [name for name in os.listdir(source_folder) if os.path.isdir(os.path.join(source_folder, name))]\n",
    "    \n",
    "    # Iterate through each subfolder name\n",
    "    for subfolder in subfolders:\n",
    "        # Create the corresponding subfolder in the destination folder\n",
    "        subfolder_path = os.path.join(destination_folder, subfolder)\n",
    "        os.makedirs(subfolder_path, exist_ok=True)  # Create subfolder if it doesn't exist already\n",
    "\n",
    "# Example usage:\n",
    "source_folder_external = \"/path_to_folder_containing_pdf_images\"  # Specify the full path to the source folder \n",
    "destination_folder = \"destiantion_to_store_the_png_images\"    # Specify the path to the destination folder\n",
    "\n",
    "create_subfolders(source_folder_external, destination_folder)"
   ]
  },
  {
   "cell_type": "code",
   "execution_count": null,
   "id": "24d88073",
   "metadata": {},
   "outputs": [],
   "source": [
    "# #Function to set a limit on the folder size incase it contains other uncesssary folders you do not need to convert\n",
    "# def is_convertible(pdf_path, max_size=3000):\n",
    "#     # Get the size of the PDF file in bytes\n",
    "#     file_size = os.path.getsize(pdf_path)\n",
    "    \n",
    "#     if file_size > max_size * 1024: \n",
    "#         # Convert max_size from KB to bytes\n",
    "#         print(f\"Ignoring {pdf_path} because it is larger than {max_size} KB\")\n",
    "#         return False \n",
    "#     return True"
   ]
  },
  {
   "cell_type": "code",
   "execution_count": null,
   "id": "678ddd6c",
   "metadata": {},
   "outputs": [],
   "source": [
    "#mASS eXTRACTION, that is looping through a subfolders in a larger folder containing the pdf images\n",
    "import os\n",
    "import io\n",
    "from PIL import Image\n",
    "import fitz  # PyMuPDF\n",
    "\n",
    "def convert_pdfs_to_images(input_folder, output_folder, output_format=\"png\"):\n",
    "    for root, _, files in os.walk(input_folder):\n",
    "        # Get the relative path to maintain folder structure in the output\n",
    "        relative_path = os.path.relpath(root, input_folder)\n",
    "        output_subfolder = os.path.join(output_folder, relative_path)\n",
    "        \n",
    "        # Create the output subfolder if it doesn't exist\n",
    "        if not os.path.exists(output_subfolder):\n",
    "            os.makedirs(output_subfolder)\n",
    "\n",
    "        for pdf_file in files:\n",
    "            if pdf_file.endswith(\".pdf\"):\n",
    "                pdf_path = os.path.join(root, pdf_file)\n",
    "                pdf_document = fitz.open(pdf_path)\n",
    "                image_count = 0\n",
    "\n",
    "                for page_number in range(pdf_document.page_count):\n",
    "                    page = pdf_document.load_page(page_number)\n",
    "                    img_list = page.get_images(full=True)\n",
    "\n",
    "                    for img_index, img in enumerate(img_list):\n",
    "                        img_byte = pdf_document.extract_image(img[0])[\"image\"]\n",
    "                        pil_img = Image.open(io.BytesIO(img_byte))\n",
    "                        output_file = f\"{os.path.splitext(pdf_file)[0]}_page_{page_number + 1}_img_{img_index + 1}.{output_format}\"\n",
    "                        output_path = os.path.join(output_subfolder, output_file)\n",
    "                        \n",
    "                        pil_img.save(output_path)\n",
    "                        image_count += 1\n",
    "\n",
    "                pdf_document.close()\n",
    "                print(f\"Total {image_count} images were extracted from {pdf_file}\")"
   ]
  },
  {
   "cell_type": "code",
   "execution_count": null,
   "id": "3e02fd2a",
   "metadata": {},
   "outputs": [],
   "source": [
    "# Example usage\n",
    "input_folder = \"path_to_the_folders_containing_subfolders\"\n",
    "output_folder = \"desired_output_folder\"\n",
    "convert_pdfs_to_images(input_folder, output_folder, output_format=\"png\")"
   ]
  }
 ],
 "metadata": {
  "kernelspec": {
   "display_name": "Python 3 (ipykernel)",
   "language": "python",
   "name": "python3"
  },
  "language_info": {
   "codemirror_mode": {
    "name": "ipython",
    "version": 3
   },
   "file_extension": ".py",
   "mimetype": "text/x-python",
   "name": "python",
   "nbconvert_exporter": "python",
   "pygments_lexer": "ipython3",
   "version": "3.11.5"
  }
 },
 "nbformat": 4,
 "nbformat_minor": 5
}
